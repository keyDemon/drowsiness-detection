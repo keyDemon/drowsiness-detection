{
 "cells": [
  {
   "cell_type": "code",
   "execution_count": 1,
   "id": "4bab87f5-0481-4388-8d4e-f5e8f4cca088",
   "metadata": {},
   "outputs": [],
   "source": [
    "import cv2 as cv"
   ]
  },
  {
   "cell_type": "code",
   "execution_count": 3,
   "id": "2d640e94-bde7-45fa-bf24-319ce4e01430",
   "metadata": {},
   "outputs": [],
   "source": [
    "import numpy as np"
   ]
  },
  {
   "cell_type": "code",
   "execution_count": 4,
   "id": "e460d2ef-6b47-444e-b7d1-87407a9b3c8c",
   "metadata": {},
   "outputs": [],
   "source": [
    "import dlib"
   ]
  },
  {
   "cell_type": "code",
   "execution_count": 7,
   "id": "db83e6f8-9de0-4bb6-85ef-657366d154ec",
   "metadata": {},
   "outputs": [],
   "source": [
    "from imutils import face_utils"
   ]
  },
  {
   "cell_type": "code",
   "execution_count": 9,
   "id": "b5b700ed-f617-4dcb-ba56-29f5b0874417",
   "metadata": {},
   "outputs": [],
   "source": [
    "detector = dlib.get_frontal_face_detector()\n",
    "predictor = dlib.shape_predictor(\"shape_predictor_68_face_landmarks.dat\")"
   ]
  },
  {
   "cell_type": "code",
   "execution_count": 10,
   "id": "0f028875-a831-40d0-a4f6-484f34c8ad37",
   "metadata": {},
   "outputs": [],
   "source": [
    "sleep = 0\n",
    "drowsy = 0\n",
    "active = 0\n",
    "status = \"\"\n",
    "color = (0,0,0)"
   ]
  },
  {
   "cell_type": "code",
   "execution_count": 13,
   "id": "10ed81fd-52c3-40a6-bf58-4b11cca83e3b",
   "metadata": {},
   "outputs": [],
   "source": [
    "def dist(a, b):\n",
    "    dst = np.linalg.norm(a-b)\n",
    "    return dst"
   ]
  },
  {
   "cell_type": "code",
   "execution_count": 15,
   "id": "b2c19be9-a943-4cf7-afda-3b5908931189",
   "metadata": {},
   "outputs": [],
   "source": [
    "def blinked(a,b,c,d,e,f):\n",
    "    up = dist(b, d) + dist(c,e)\n",
    "    down = dist(a, f)\n",
    "    ratio = up/(2.0*down)\n",
    "\n",
    "    if ratio>0.3:\n",
    "        return 2\n",
    "    elif 0.3 >= ratio > 0.15:\n",
    "        return 1\n",
    "    else:\n",
    "        return 0"
   ]
  },
  {
   "cell_type": "code",
   "execution_count": null,
   "id": "4f43f93b-4724-41be-845d-2ac4b8463b4a",
   "metadata": {},
   "outputs": [
    {
     "name": "stderr",
     "output_type": "stream",
     "text": [
      "2025-02-18 16:52:44.148 python[96824:9701886] +[IMKClient subclass]: chose IMKClient_Modern\n",
      "2025-02-18 16:52:44.148 python[96824:9701886] +[IMKInputSession subclass]: chose IMKInputSession_Modern\n"
     ]
    }
   ],
   "source": [
    "cap = cv.VideoCapture(0)\n",
    "while True:\n",
    "    _, frame = cap.read()\n",
    "    gray = cv.cvtColor(frame, cv.COLOR_BGR2GRAY)\n",
    "\n",
    "    faces = detector(gray)\n",
    "\n",
    "    for face in faces:\n",
    "        x1 = face.left()\n",
    "        y1 = face.top()\n",
    "        x2 = face.right()\n",
    "        y2 = face.bottom()\n",
    "        face_frame = frame.copy()\n",
    "        cv.rectangle(face_frame, (x1, y1), (x2, y2), (0, 255, 0), 2)\n",
    "        landmarks = predictor(gray, face)\n",
    "        landmarks = face_utils.shape_to_np(landmarks)\n",
    "        left_blink = blinked(landmarks[36],landmarks[37], landmarks[38], landmarks[41], landmarks[40], landmarks[39])\n",
    "        right_blink = blinked(landmarks[42],landmarks[43], landmarks[44], landmarks[47], landmarks[46], landmarks[45])\n",
    "        \n",
    "        if left_blink==0 and right_blink == 0:\n",
    "            sleep+=1\n",
    "            drowsy = 0\n",
    "            active = 0\n",
    "            if sleep>6:\n",
    "                status = \"SLEEPING!\"\n",
    "                color = (255, 0, 0)\n",
    "        \n",
    "        elif left_blink==1 and right_blink==1:\n",
    "            sleep = 0\n",
    "            active = 0\n",
    "            drowsy+=1\n",
    "            if drowsy>6:\n",
    "                status = \"DROWSY!\"\n",
    "                color = (0,0,255)\n",
    "        \n",
    "        else:\n",
    "            drowsy = 0\n",
    "            sleep = 0\n",
    "            active+=1\n",
    "            if active>6:\n",
    "                status = \"ACTIVE!\"\n",
    "                color = (0, 255, 0)\n",
    "        \n",
    "        cv.putText(frame, status, (100,100), cv.FONT_HERSHEY_SIMPLEX, 1.2, color, 3)\n",
    "        for n in range(0, 68):\n",
    "            (x,y) = landmarks[n]\n",
    "            cv.circle(face_frame, (x, y), 1, (255, 255, 255), -1)\n",
    "        \n",
    "        cv.imshow(\"Frame\", frame)\n",
    "        cv.imshow(\"Result of detector\", face_frame)\n",
    "        key = cv.waitKey(1)\n",
    "        if key == 27:\n",
    "            break"
   ]
  },
  {
   "cell_type": "code",
   "execution_count": null,
   "id": "6002f7c1-39d8-46aa-88f7-5ddf9e19eeb6",
   "metadata": {},
   "outputs": [],
   "source": []
  }
 ],
 "metadata": {
  "kernelspec": {
   "display_name": "Python [conda env:base] *",
   "language": "python",
   "name": "conda-base-py"
  },
  "language_info": {
   "codemirror_mode": {
    "name": "ipython",
    "version": 3
   },
   "file_extension": ".py",
   "mimetype": "text/x-python",
   "name": "python",
   "nbconvert_exporter": "python",
   "pygments_lexer": "ipython3",
   "version": "3.12.2"
  }
 },
 "nbformat": 4,
 "nbformat_minor": 5
}
